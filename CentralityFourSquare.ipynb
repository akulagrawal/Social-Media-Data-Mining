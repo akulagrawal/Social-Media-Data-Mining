{
 "cells": [
  {
   "cell_type": "code",
   "execution_count": 1,
   "metadata": {
    "colab": {},
    "colab_type": "code",
    "collapsed": true,
    "id": "mCtauVwVNCoy"
   },
   "outputs": [],
   "source": [
    "import networkx as nx\n",
    "import matplotlib.pyplot as plt\n",
    "import matplotlib.colors as mcolors\n",
    "import numpy as np\n",
    "import pandas as pd\n",
    "from scipy import stats\n",
    "import math\n",
    "from scipy.sparse import csc_matrix\n",
    "import random\n",
    "import operator\n",
    "import scipy.io\n",
    "import collections\n",
    "\n",
    "# for Notebook\n",
    "%matplotlib inline"
   ]
  },
  {
   "cell_type": "code",
   "execution_count": 2,
   "metadata": {
    "collapsed": true
   },
   "outputs": [],
   "source": [
    "def load_restaurant_dataset():\n",
    "    path = 'dataset_ubicomp2013_checkins.txt'\n",
    "    infile = open(path, 'r')\n",
    "    a = set()\n",
    "    b = set()\n",
    "    edges = []\n",
    "    for line in infile:\n",
    "        s=line.strip().split(None)\n",
    "        u=-1*int(s.pop(0)) -10\n",
    "        v=int(s.pop(0))\n",
    "        a.add(u)\n",
    "        b.add(v)\n",
    "        edges.append((u,v))\n",
    "    top_nodes = {}\n",
    "    bottom_nodes = {}\n",
    "    count = 0 \n",
    "    for x in a:\n",
    "        top_nodes[x] = count\n",
    "        count = count + 1\n",
    "    count  = 0    \n",
    "    for y in b:\n",
    "        bottom_nodes[y] = count\n",
    "        count  = count + 1\n",
    "    \n",
    "    A = np.zeros((len(a),len(b)))\n",
    "    for edge in edges:\n",
    "        e1 = top_nodes[edge[0]]\n",
    "        e2 = bottom_nodes[edge[1]]\n",
    "        A[e1, e2] = 1\n",
    "    \n",
    "    A = np.dot(A,A.T)\n",
    "    for i in range(0,A.shape[0]):\n",
    "        for j in range(0,A.shape[1]):\n",
    "            if i == j :\n",
    "                A[i,j] = 0\n",
    "            else:\n",
    "                if A[i,j] != 0:\n",
    "                  A[i,j] = 1\n",
    "                else:\n",
    "                  A[i,j] = 0\n",
    "          \n",
    "                                     \n",
    "    G=nx.from_numpy_matrix(A)\n",
    "    return G\n",
    "G = load_restaurant_dataset()"
   ]
  },
  {
   "cell_type": "code",
   "execution_count": 3,
   "metadata": {},
   "outputs": [
    {
     "name": "stdout",
     "output_type": "stream",
     "text": [
      "Name: \n",
      "Type: Graph\n",
      "Number of nodes: 2060\n",
      "Number of edges: 58810\n",
      "Average degree:  57.0971\n",
      "2060\n",
      "58810\n",
      "False\n",
      "0.4578995252895736\n"
     ]
    }
   ],
   "source": [
    "print(nx.info(G))\n",
    "print(nx.number_of_nodes(G))\n",
    "print(nx.number_of_edges(G))\n",
    "print(nx.is_directed(G))\n",
    "print(nx.average_clustering(G))"
   ]
  },
  {
   "cell_type": "code",
   "execution_count": 29,
   "metadata": {
    "colab": {
     "base_uri": "https://localhost:8080/",
     "height": 549
    },
    "colab_type": "code",
    "collapsed": true,
    "id": "2TI53d9sNCqe",
    "outputId": "0e11849e-0148-4165-9f21-fdc45a638168"
   },
   "outputs": [],
   "source": [
    "deg_cent = nx.degree_centrality(G)"
   ]
  },
  {
   "cell_type": "code",
   "execution_count": 17,
   "metadata": {
    "colab": {},
    "colab_type": "code",
    "collapsed": true,
    "id": "mxI6LJFaNCqx"
   },
   "outputs": [],
   "source": [
    "ideal = nx.closeness_centrality(G) "
   ]
  },
  {
   "cell_type": "code",
   "execution_count": 19,
   "metadata": {
    "colab": {},
    "colab_type": "code",
    "collapsed": true,
    "id": "mOJL83QZNCrD"
   },
   "outputs": [],
   "source": [
    "eigen = nx.eigenvector_centrality(G,weight='weight')"
   ]
  },
  {
   "cell_type": "code",
   "execution_count": null,
   "metadata": {
    "colab": {},
    "colab_type": "code",
    "id": "IUr5gC6aNCrZ"
   },
   "outputs": [],
   "source": [
    "phi = (1+math.sqrt(G.number_of_nodes()))/2.0\n",
    "katz = nx.katz_centrality(G,phi)"
   ]
  },
  {
   "cell_type": "code",
   "execution_count": 22,
   "metadata": {
    "colab": {},
    "colab_type": "code",
    "collapsed": true,
    "id": "y0ZQA_FCNCrt"
   },
   "outputs": [],
   "source": [
    "pageRank = nx.pagerank(G)"
   ]
  },
  {
   "cell_type": "code",
   "execution_count": 23,
   "metadata": {
    "colab": {},
    "colab_type": "code",
    "collapsed": true,
    "id": "3SrX1XkhNCsE"
   },
   "outputs": [],
   "source": [
    "h,a = nx.hits(G,max_iter=500)"
   ]
  },
  {
   "cell_type": "code",
   "execution_count": 24,
   "metadata": {
    "colab": {},
    "colab_type": "code",
    "collapsed": true,
    "id": "Z31gUcTrNCsi"
   },
   "outputs": [],
   "source": [
    "betweenness = nx.betweenness_centrality(G)"
   ]
  },
  {
   "cell_type": "code",
   "execution_count": 25,
   "metadata": {
    "collapsed": true
   },
   "outputs": [],
   "source": [
    "import pandas as pd\n",
    "import seaborn as sns\n",
    "ds = pd.DataFrame()"
   ]
  },
  {
   "cell_type": "code",
   "execution_count": 26,
   "metadata": {
    "collapsed": true
   },
   "outputs": [],
   "source": [
    "ds['Betweenness Centrality'] = np.asarray(list(betweenness.values()))\n",
    "ds['Degree Centrality'] = np.asarray(list(deg_cent.values()))\n",
    "ds['Closeness Centrality'] = np.asarray(list(ideal.values()))\n",
    "# ds['Katz Centrality'] = np.asarray(list(katz.values()))\n",
    "ds['PageRank Centrality'] = np.asarray(list(pageRank.values()))\n",
    "ds['Eigen Vector Centrality'] = np.asarray(list(eigen.values()))\n",
    "ds['HITS Centrality'] = np.asarray(list(h.values()))"
   ]
  },
  {
   "cell_type": "code",
   "execution_count": 27,
   "metadata": {},
   "outputs": [
    {
     "data": {
      "image/png": "[encoded data removed]",
      "text/plain": [
       "<matplotlib.figure.Figure at 0x7f8d860f5240>"
      ]
     },
     "metadata": {},
     "output_type": "display_data"
    }
   ],
   "source": [
    "## Correlation Matrix.\n",
    "corr_mat = ds.corr()\n",
    "sns.heatmap(corr_mat);"
   ]
  },
  {
   "cell_type": "code",
   "execution_count": 28,
   "metadata": {
    "collapsed": true
   },
   "outputs": [],
   "source": [
    "ds.to_csv('CentralityFourSquare.csv') "
   ]
  },
  {
   "cell_type": "code",
   "execution_count": null,
   "metadata": {
    "collapsed": true
   },
   "outputs": [],
   "source": []
  },
  {
   "cell_type": "code",
   "execution_count": null,
   "metadata": {
    "collapsed": true
   },
   "outputs": [],
   "source": []
  }
 ],
 "metadata": {
  "colab": {
   "collapsed_sections": [],
   "name": "imdb.ipynb",
   "provenance": [],
   "version": "0.3.2"
  },
  "kernelspec": {
   "display_name": "Python 3",
   "language": "python",
   "name": "python3"
  },
  "language_info": {
   "codemirror_mode": {
    "name": "ipython",
    "version": 3
   },
   "file_extension": ".py",
   "mimetype": "text/x-python",
   "name": "python",
   "nbconvert_exporter": "python",
   "pygments_lexer": "ipython3",
   "version": "3.6.3"
  }
 },
 "nbformat": 4,
 "nbformat_minor": 1
}
